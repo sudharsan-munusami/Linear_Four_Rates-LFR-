{
 "cells": [
  {
   "cell_type": "code",
   "execution_count": 1,
   "metadata": {},
   "outputs": [],
   "source": [
    "import numpy as np\n",
    "import matplotlib.pyplot as plt\n",
    "import cProfile"
   ]
  },
  {
   "cell_type": "code",
   "execution_count": 2,
   "metadata": {},
   "outputs": [],
   "source": [
    "from lfr import LinearFourRates"
   ]
  },
  {
   "cell_type": "code",
   "execution_count": 5,
   "metadata": {},
   "outputs": [],
   "source": [
    "#Define the input arrays and confidence metrics\n",
    "T = 10000\n",
    "changepoint = 5000\n",
    "cp_1 = np.array([[0.4, 0.1], [0.1, 0.4]])\n",
    "cp_2 = np.array([[0.3, 0.1], [0.2, 0.4]])\n",
    "\n",
    "np.random.seed(1234)\n",
    "\n",
    "# Generate sme synthetic data\n",
    "possibilities = np.array([[0, 0], [0, 1], [1, 0], [1, 1]])\n",
    "cp1 = [0.4, 0.1, 0.1, 0.4]\n",
    "cp2 = [0.3, 0.1, 0.2, 0.4]\n",
    "first_sample_idx = np.random.choice(len(possibilities), changepoint, replace=True, p=cp1)\n",
    "second_sample_idx = np.random.choice(len(possibilities), changepoint, replace=True, p=cp2)\n",
    "\n",
    "sampled_data = np.vstack((possibilities[first_sample_idx], possibilities[second_sample_idx]))\n",
    "y_true = sampled_data[:, 0]\n",
    "y_pred = sampled_data[:, 1]\n",
    "\n",
    "K=100 #Used for detect level"
   ]
  },
  {
   "cell_type": "code",
   "execution_count": 6,
   "metadata": {},
   "outputs": [],
   "source": [
    "#Define the three user-defined parameters in LFR. Warn level, Detect level and decay\n",
    "lfr = LinearFourRates(warn_level=0.01, detect_level=1 / (100.0 * K), decay=0.9)"
   ]
  },
  {
   "cell_type": "code",
   "execution_count": 7,
   "metadata": {
    "scrolled": true
   },
   "outputs": [
    {
     "name": "stdout",
     "output_type": "stream",
     "text": [
      "Sample 0: metric tpr, R: 0.500, Warn LB: 0.000 Warn UB: 0, Detect LB: 0.000, Detect UB: 0.190, warn: True detect: True\n",
      "Sample 0: metric tnr, R: 0.550, Warn LB: 0.000 Warn UB: 0, Detect LB: 0.000, Detect UB: 0.271, warn: True detect: True\n",
      "Sample 0: metric ppv, R: 0.500, Warn LB: 0.000 Warn UB: 0, Detect LB: 0.000, Detect UB: 0.190, warn: True detect: True\n",
      "Sample 0: metric npv, R: 0.550, Warn LB: 0.000 Warn UB: 0, Detect LB: 0.000, Detect UB: 0.271, warn: True detect: True\n",
      "Sample 0\n",
      "Sample 1: metric tpr, R: 0.550, Warn LB: 0.000 Warn UB: 0, Detect LB: 0.000, Detect UB: 0.271, warn: True detect: True\n",
      "Sample 1: metric tnr, R: 0.550, Warn LB: 0.000 Warn UB: 0, Detect LB: 0.000, Detect UB: 0.190, warn: True detect: True\n",
      "Sample 1: metric ppv, R: 0.550, Warn LB: 0.000 Warn UB: 0, Detect LB: 0.000, Detect UB: 0.271, warn: True detect: True\n",
      "Sample 1: metric npv, R: 0.550, Warn LB: 0.000 Warn UB: 0, Detect LB: 0.000, Detect UB: 0.190, warn: True detect: True\n",
      "Sample 2: metric tpr, R: 0.450, Warn LB: 0.000 Warn UB: 0, Detect LB: 0.000, Detect UB: 0.190, warn: True detect: True\n",
      "Sample 2: metric tnr, R: 0.450, Warn LB: 0.000 Warn UB: 0, Detect LB: 0.000, Detect UB: 0.271, warn: True detect: True\n",
      "Sample 2: metric ppv, R: 0.450, Warn LB: 0.000 Warn UB: 0, Detect LB: 0.000, Detect UB: 0.271, warn: True detect: True\n",
      "Sample 2: metric npv, R: 0.500, Warn LB: 0.000 Warn UB: 0, Detect LB: 0.000, Detect UB: 0.190, warn: True detect: True\n",
      "Sample 3: metric tpr, R: 0.550, Warn LB: 0.000 Warn UB: 0, Detect LB: 0.000, Detect UB: 0.271, warn: True detect: True\n",
      "Sample 3: metric tnr, R: 0.550, Warn LB: 0.000 Warn UB: 0, Detect LB: 0.000, Detect UB: 0.190, warn: True detect: True\n",
      "Sample 3: metric ppv, R: 0.550, Warn LB: 0.000 Warn UB: 0, Detect LB: 0.000, Detect UB: 0.271, warn: True detect: True\n",
      "Sample 3: metric npv, R: 0.500, Warn LB: 0.000 Warn UB: 0, Detect LB: 0.000, Detect UB: 0.190, warn: True detect: True\n",
      "Sample 4: metric tpr, R: 0.500, Warn LB: 0.000 Warn UB: 0, Detect LB: 0.000, Detect UB: 0.271, warn: True detect: True\n",
      "Sample 4: metric tnr, R: 0.500, Warn LB: 0.000 Warn UB: 0, Detect LB: 0.000, Detect UB: 0.190, warn: True detect: True\n",
      "Sample 4: metric ppv, R: 0.500, Warn LB: 0.000 Warn UB: 0, Detect LB: 0.000, Detect UB: 0.271, warn: True detect: True\n",
      "Sample 4: metric npv, R: 0.500, Warn LB: 0.000 Warn UB: 0, Detect LB: 0.000, Detect UB: 0.190, warn: True detect: True\n",
      "Sample 5: metric tpr, R: 0.550, Warn LB: 0.000 Warn UB: 0, Detect LB: 0.000, Detect UB: 0.190, warn: True detect: True\n",
      "Sample 5: metric tnr, R: 0.550, Warn LB: 0.000 Warn UB: 0, Detect LB: 0.000, Detect UB: 0.271, warn: True detect: True\n",
      "Sample 5: metric ppv, R: 0.550, Warn LB: 0.000 Warn UB: 0, Detect LB: 0.000, Detect UB: 0.190, warn: True detect: True\n",
      "Sample 5: metric npv, R: 0.550, Warn LB: 0.000 Warn UB: 0, Detect LB: 0.000, Detect UB: 0.271, warn: True detect: True\n",
      "Sample 6: metric tpr, R: 0.500, Warn LB: 0.000 Warn UB: 0, Detect LB: 0.000, Detect UB: 0.190, warn: True detect: True\n",
      "Sample 6: metric tnr, R: 0.500, Warn LB: 0.000 Warn UB: 0, Detect LB: 0.000, Detect UB: 0.271, warn: True detect: True\n",
      "Sample 6: metric ppv, R: 0.500, Warn LB: 0.000 Warn UB: 0, Detect LB: 0.000, Detect UB: 0.190, warn: True detect: True\n",
      "Sample 6: metric npv, R: 0.500, Warn LB: 0.000 Warn UB: 0, Detect LB: 0.000, Detect UB: 0.271, warn: True detect: True\n",
      "Sample 7: metric tpr, R: 0.550, Warn LB: 0.000 Warn UB: 0, Detect LB: 0.000, Detect UB: 0.271, warn: True detect: True\n",
      "Sample 7: metric tnr, R: 0.550, Warn LB: 0.000 Warn UB: 0, Detect LB: 0.000, Detect UB: 0.190, warn: True detect: True\n",
      "Sample 7: metric ppv, R: 0.550, Warn LB: 0.000 Warn UB: 0, Detect LB: 0.000, Detect UB: 0.271, warn: True detect: True\n",
      "Sample 7: metric npv, R: 0.550, Warn LB: 0.000 Warn UB: 0, Detect LB: 0.000, Detect UB: 0.190, warn: True detect: True\n",
      "Sample 8: metric tpr, R: 0.500, Warn LB: 0.000 Warn UB: 0, Detect LB: 0.000, Detect UB: 0.271, warn: True detect: True\n",
      "Sample 8: metric tnr, R: 0.500, Warn LB: 0.000 Warn UB: 0, Detect LB: 0.000, Detect UB: 0.190, warn: True detect: True\n",
      "Sample 8: metric ppv, R: 0.500, Warn LB: 0.000 Warn UB: 0, Detect LB: 0.000, Detect UB: 0.271, warn: True detect: True\n",
      "Sample 8: metric npv, R: 0.500, Warn LB: 0.000 Warn UB: 0, Detect LB: 0.000, Detect UB: 0.190, warn: True detect: True\n",
      "Sample 9: metric tpr, R: 0.500, Warn LB: 0.000 Warn UB: 0, Detect LB: 0.000, Detect UB: 0.271, warn: True detect: True\n",
      "Sample 9: metric tnr, R: 0.500, Warn LB: 0.000 Warn UB: 0, Detect LB: 0.000, Detect UB: 0.190, warn: True detect: True\n",
      "Sample 9: metric ppv, R: 0.500, Warn LB: 0.000 Warn UB: 0, Detect LB: 0.000, Detect UB: 0.271, warn: True detect: True\n",
      "Sample 9: metric npv, R: 0.500, Warn LB: 0.000 Warn UB: 0, Detect LB: 0.000, Detect UB: 0.190, warn: True detect: True\n",
      "Sample 10: metric tpr, R: 0.550, Warn LB: 0.000 Warn UB: 0, Detect LB: 0.000, Detect UB: 0.190, warn: True detect: True\n",
      "Sample 10: metric tnr, R: 0.550, Warn LB: 0.000 Warn UB: 0, Detect LB: 0.000, Detect UB: 0.271, warn: True detect: True\n",
      "Sample 10: metric ppv, R: 0.550, Warn LB: 0.000 Warn UB: 0, Detect LB: 0.000, Detect UB: 0.190, warn: True detect: True\n",
      "Sample 10: metric npv, R: 0.550, Warn LB: 0.000 Warn UB: 0, Detect LB: 0.000, Detect UB: 0.271, warn: True detect: True\n",
      "Sample 11: metric tpr, R: 0.450, Warn LB: 0.000 Warn UB: 0, Detect LB: 0.000, Detect UB: 0.271, warn: True detect: True\n",
      "Sample 11: metric tnr, R: 0.450, Warn LB: 0.000 Warn UB: 0, Detect LB: 0.000, Detect UB: 0.190, warn: True detect: True\n",
      "Sample 11: metric ppv, R: 0.500, Warn LB: 0.000 Warn UB: 0, Detect LB: 0.000, Detect UB: 0.190, warn: True detect: True\n",
      "Sample 11: metric npv, R: 0.450, Warn LB: 0.000 Warn UB: 0, Detect LB: 0.000, Detect UB: 0.271, warn: True detect: True\n",
      "Sample 12: metric tpr, R: 0.550, Warn LB: 0.000 Warn UB: 0, Detect LB: 0.000, Detect UB: 0.271, warn: True detect: True\n",
      "Sample 12: metric tnr, R: 0.500, Warn LB: 0.000 Warn UB: 0, Detect LB: 0.000, Detect UB: 0.190, warn: True detect: True\n",
      "Sample 12: metric ppv, R: 0.550, Warn LB: 0.000 Warn UB: 0, Detect LB: 0.000, Detect UB: 0.271, warn: True detect: True\n",
      "Sample 12: metric npv, R: 0.550, Warn LB: 0.000 Warn UB: 0, Detect LB: 0.000, Detect UB: 0.190, warn: True detect: True\n",
      "Sample 13: metric tpr, R: 0.500, Warn LB: 0.000 Warn UB: 0, Detect LB: 0.000, Detect UB: 0.271, warn: True detect: True\n",
      "Sample 13: metric tnr, R: 0.500, Warn LB: 0.000 Warn UB: 0, Detect LB: 0.000, Detect UB: 0.190, warn: True detect: True\n",
      "Sample 13: metric ppv, R: 0.500, Warn LB: 0.000 Warn UB: 0, Detect LB: 0.000, Detect UB: 0.271, warn: True detect: True\n",
      "Sample 13: metric npv, R: 0.500, Warn LB: 0.000 Warn UB: 0, Detect LB: 0.000, Detect UB: 0.190, warn: True detect: True\n",
      "Sample 14: metric tpr, R: 0.550, Warn LB: 0.000 Warn UB: 0, Detect LB: 0.000, Detect UB: 0.190, warn: True detect: True\n",
      "Sample 14: metric tnr, R: 0.550, Warn LB: 0.000 Warn UB: 0, Detect LB: 0.000, Detect UB: 0.271, warn: True detect: True\n",
      "Sample 14: metric ppv, R: 0.550, Warn LB: 0.000 Warn UB: 0, Detect LB: 0.000, Detect UB: 0.190, warn: True detect: True\n",
      "Sample 14: metric npv, R: 0.550, Warn LB: 0.000 Warn UB: 0, Detect LB: 0.000, Detect UB: 0.271, warn: True detect: True\n",
      "Sample 15: metric tpr, R: 0.450, Warn LB: 0.000 Warn UB: 0, Detect LB: 0.000, Detect UB: 0.271, warn: True detect: True\n",
      "Sample 15: metric tnr, R: 0.450, Warn LB: 0.000 Warn UB: 0, Detect LB: 0.000, Detect UB: 0.190, warn: True detect: True\n",
      "Sample 15: metric ppv, R: 0.500, Warn LB: 0.000 Warn UB: 0, Detect LB: 0.000, Detect UB: 0.190, warn: True detect: True\n",
      "Sample 15: metric npv, R: 0.450, Warn LB: 0.000 Warn UB: 0, Detect LB: 0.000, Detect UB: 0.271, warn: True detect: True\n",
      "Sample 16: metric tpr, R: 0.500, Warn LB: 0.000 Warn UB: 0, Detect LB: 0.000, Detect UB: 0.271, warn: True detect: True\n",
      "Sample 16: metric tnr, R: 0.500, Warn LB: 0.000 Warn UB: 0, Detect LB: 0.000, Detect UB: 0.190, warn: True detect: True\n",
      "Sample 16: metric ppv, R: 0.500, Warn LB: 0.000 Warn UB: 0, Detect LB: 0.000, Detect UB: 0.190, warn: True detect: True\n",
      "Sample 16: metric npv, R: 0.500, Warn LB: 0.000 Warn UB: 0, Detect LB: 0.000, Detect UB: 0.271, warn: True detect: True\n",
      "Sample 17: metric tpr, R: 0.550, Warn LB: 0.000 Warn UB: 0, Detect LB: 0.000, Detect UB: 0.190, warn: True detect: True\n",
      "Sample 17: metric tnr, R: 0.550, Warn LB: 0.000 Warn UB: 0, Detect LB: 0.000, Detect UB: 0.271, warn: True detect: True\n",
      "Sample 17: metric ppv, R: 0.500, Warn LB: 0.000 Warn UB: 0, Detect LB: 0.000, Detect UB: 0.190, warn: True detect: True\n",
      "Sample 17: metric npv, R: 0.550, Warn LB: 0.000 Warn UB: 0, Detect LB: 0.000, Detect UB: 0.271, warn: True detect: True\n",
      "Sample 18: metric tpr, R: 0.550, Warn LB: 0.000 Warn UB: 0, Detect LB: 0.000, Detect UB: 0.271, warn: True detect: True\n",
      "Sample 18: metric tnr, R: 0.550, Warn LB: 0.000 Warn UB: 0, Detect LB: 0.000, Detect UB: 0.190, warn: True detect: True\n",
      "Sample 18: metric ppv, R: 0.550, Warn LB: 0.000 Warn UB: 0, Detect LB: 0.000, Detect UB: 0.271, warn: True detect: True\n",
      "Sample 18: metric npv, R: 0.550, Warn LB: 0.000 Warn UB: 0, Detect LB: 0.000, Detect UB: 0.190, warn: True detect: True\n",
      "Sample 19: metric tpr, R: 0.500, Warn LB: 0.000 Warn UB: 0, Detect LB: 0.000, Detect UB: 0.271, warn: True detect: True\n",
      "Sample 19: metric tnr, R: 0.500, Warn LB: 0.000 Warn UB: 0, Detect LB: 0.000, Detect UB: 0.190, warn: True detect: True\n",
      "Sample 19: metric ppv, R: 0.500, Warn LB: 0.000 Warn UB: 0, Detect LB: 0.000, Detect UB: 0.271, warn: True detect: True\n",
      "Sample 19: metric npv, R: 0.500, Warn LB: 0.000 Warn UB: 0, Detect LB: 0.000, Detect UB: 0.190, warn: True detect: True\n"
     ]
    },
    {
     "data": {
      "text/plain": [
       "<lfr.LinearFourRates at 0x1c18a040820>"
      ]
     },
     "execution_count": 7,
     "metadata": {},
     "output_type": "execute_result"
    }
   ],
   "source": [
    "'''\n",
    "This function runs the LFR method for the input datasets.\n",
    "The input functions are results of two binary classifiers populated with 0&1.\n",
    "The function outputs the metric under consideration for each sample along with the R value(test-statistic),\n",
    "    lower and upper bounds for both warning and detection of drift.\n",
    "If the R statistic is outside these bounds, a warning or detecting alarm is triggered as shown in the output.\n",
    "'''\n",
    "lfr.detect_drift_points(y_obs=y_true[:20], y_pred=y_pred[:20])"
   ]
  }
 ],
 "metadata": {
  "kernelspec": {
   "display_name": "Python 3",
   "language": "python",
   "name": "python3"
  },
  "language_info": {
   "codemirror_mode": {
    "name": "ipython",
    "version": 3
   },
   "file_extension": ".py",
   "mimetype": "text/x-python",
   "name": "python",
   "nbconvert_exporter": "python",
   "pygments_lexer": "ipython3",
   "version": "3.8.5"
  }
 },
 "nbformat": 4,
 "nbformat_minor": 4
}
